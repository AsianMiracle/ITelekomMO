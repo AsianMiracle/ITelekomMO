{
 "cells": [
  {
   "cell_type": "code",
   "execution_count": 71,
   "id": "fe74957b",
   "metadata": {},
   "outputs": [],
   "source": [
    "import pandas as pd\n",
    "import numpy as np\n",
    "from sklearn.feature_extraction.text import CountVectorizer\n",
    "from sklearn.ensemble import RandomForestClassifier\n",
    "\n",
    "\n",
    "df = pd.read_csv('Combined_News_DJIA.csv')\n",
    "train = df[df['Date']<'20150101']\n",
    "test = df[df['Date'] > '20141231']\n",
    "data = train.iloc[:, 2:27]\n",
    "data.replace(\"[^a-zA-Z]\", \" \", regex=True, inplace=True)\n",
    "list1 = [i for i in range(25)]\n",
    "new_Index = [str(i) for i in list1]\n",
    "data.columns = new_Index\n",
    "for index in new_Index:\n",
    "    data[index] = data[index].str.lower()\n",
    "headlines = []\n",
    "for row in range(0, len(data.index)):\n",
    "    headlines.append(' '.join(str(x) for x in data.iloc[row, 0:25]))\n",
    "countVector = CountVectorizer(ngram_range=(2,2))\n",
    "trainDataset = countVector.fit_transform(headlines)\n",
    "testTransform =[]\n",
    "for row in range(0, len(test.index)):\n",
    "    testTransform.append(' '.join(str(x) for x in test.iloc[row, 2:27]))\n",
    "test_dataset = countVector.transform(testTransform)"
   ]
  },
  {
   "cell_type": "code",
   "execution_count": 76,
   "id": "8e304be2",
   "metadata": {},
   "outputs": [],
   "source": [
    "import pickle\n",
    "randomClassifier = RandomForestClassifier(n_estimators=200, criterion='entropy')\n",
    "randomClassifier.fit(trainDataset, train['Label'])\n",
    "randomClassifier.score(test_dataset, test['Label'])\n",
    "with open('D:\\\\rf_b.pkl','wb') as f:\n",
    "    pickle.dump(randomClassifier,f)"
   ]
  },
  {
   "cell_type": "code",
   "execution_count": 73,
   "id": "24885942",
   "metadata": {},
   "outputs": [
    {
     "data": {
      "text/plain": [
       "0.8518518518518519"
      ]
     },
     "execution_count": 73,
     "metadata": {},
     "output_type": "execute_result"
    }
   ],
   "source": [
    "from sklearn import svm\n",
    "clf = svm.SVC(decision_function_shape='ovo')\n",
    "clf.fit(trainDataset, train.Label)\n",
    "clf.score(test_dataset, test['Label'])"
   ]
  },
  {
   "cell_type": "code",
   "execution_count": 74,
   "id": "3ca182e4",
   "metadata": {},
   "outputs": [
    {
     "data": {
      "text/plain": [
       "0.8465608465608465"
      ]
     },
     "execution_count": 74,
     "metadata": {},
     "output_type": "execute_result"
    }
   ],
   "source": [
    "from sklearn.naive_bayes import MultinomialNB\n",
    "naive = MultinomialNB()\n",
    "naive.fit(trainDataset, train['Label'])\n",
    "naive.score(test_dataset, test['Label'])"
   ]
  },
  {
   "cell_type": "code",
   "execution_count": 93,
   "id": "2301c83f",
   "metadata": {},
   "outputs": [
    {
     "data": {
      "text/plain": [
       "0.7433862433862434"
      ]
     },
     "execution_count": 93,
     "metadata": {},
     "output_type": "execute_result"
    }
   ],
   "source": [
    "from sklearn.ensemble import GradientBoostingClassifier\n",
    "clf1 = GradientBoostingClassifier(n_estimators=100, learning_rate=1.0, max_depth=1, random_state=0).fit(trainDataset, train['Label'])\n",
    "clf1.score(test_dataset, test['Label'])"
   ]
  },
  {
   "cell_type": "code",
   "execution_count": 104,
   "id": "489053d8",
   "metadata": {},
   "outputs": [
    {
     "data": {
      "text/plain": [
       "<BarContainer object of 4 artists>"
      ]
     },
     "execution_count": 104,
     "metadata": {},
     "output_type": "execute_result"
    },
    {
     "data": {
      "image/png": "[encoded data removed]",
      "text/plain": [
       "<Figure size 512x384 with 1 Axes>"
      ]
     },
     "metadata": {
      "needs_background": "light"
     },
     "output_type": "display_data"
    }
   ],
   "source": [
    "import matplotlib.pyplot as plt\n",
    "import matplotlib as mpl\n",
    "import matplotlib.pyplot as plt\n",
    "import matplotlib.dates as mdates\n",
    "dpi = 70\n",
    "fig = plt.figure(dpi = dpi, figsize = (512 / dpi, 384 / dpi) )\n",
    "mpl.rcParams.update({'font.size': 10})\n",
    "X = ['RandomForestClassifier', 'MultinomialNB', 'SVM', 'GradientBoostingClassifier']\n",
    "y = [randomClassifier.score(test_dataset, test['Label']), clf.score(test_dataset, test['Label']), naive.score(test_dataset, test['Label']), clf1.score(test_dataset, test['Label'])]\n",
    "plt.xlabel('Классификаторы')\n",
    "plt.ylabel('Score')\n",
    "plt.bar(x = X, height=y, width = 0.2, color = 'blue', alpha = 0.7, zorder = 2)"
   ]
  },
  {
   "cell_type": "code",
   "execution_count": 86,
   "id": "fb0260cf",
   "metadata": {},
   "outputs": [],
   "source": [
    "def pred_cl(df):\n",
    "    data = df.iloc[:, 2:27]\n",
    "    data.replace(\"[^a-zA-Z]\", \" \", regex=True, inplace=True)\n",
    "    list1 = [i for i in range(25)]\n",
    "    new_Index = [str(i) for i in list1]\n",
    "    data.columns = new_Index\n",
    "    for index in new_Index:\n",
    "        data[index] = data[index].str.lower()\n",
    "    headlines = []\n",
    "    for row in range(0, len(data.index)):\n",
    "        headlines.append(' '.join(str(x) for x in data.iloc[row, 0:25]))\n",
    "    Dataset = countVector.transform(headlines)\n",
    "    return Dataset\n",
    "predictor_df = pred_cl(df)\n",
    "with open('D:\\\\rf_b.pkl', 'rb') as f:\n",
    "    randomClassifier = pickle.load(f)\n",
    "    ch = randomClassifier.predict(predictor_df)"
   ]
  },
  {
   "cell_type": "code",
   "execution_count": 87,
   "id": "7b2e590a",
   "metadata": {},
   "outputs": [
    {
     "data": {
      "text/html": [
       "<div>\n",
       "<style scoped>\n",
       "    .dataframe tbody tr th:only-of-type {\n",
       "        vertical-align: middle;\n",
       "    }\n",
       "\n",
       "    .dataframe tbody tr th {\n",
       "        vertical-align: top;\n",
       "    }\n",
       "\n",
       "    .dataframe thead th {\n",
       "        text-align: right;\n",
       "    }\n",
       "</style>\n",
       "<table border=\"1\" class=\"dataframe\">\n",
       "  <thead>\n",
       "    <tr style=\"text-align: right;\">\n",
       "      <th></th>\n",
       "      <th>Date</th>\n",
       "      <th>Label</th>\n",
       "      <th>Delta</th>\n",
       "    </tr>\n",
       "  </thead>\n",
       "  <tbody>\n",
       "    <tr>\n",
       "      <th>0</th>\n",
       "      <td>2008-08-08</td>\n",
       "      <td>0</td>\n",
       "      <td>-25.128907</td>\n",
       "    </tr>\n",
       "    <tr>\n",
       "      <th>1</th>\n",
       "      <td>2008-08-11</td>\n",
       "      <td>1</td>\n",
       "      <td>-217.230468</td>\n",
       "    </tr>\n",
       "    <tr>\n",
       "      <th>2</th>\n",
       "      <td>2008-08-12</td>\n",
       "      <td>0</td>\n",
       "      <td>-238.660157</td>\n",
       "    </tr>\n",
       "    <tr>\n",
       "      <th>3</th>\n",
       "      <td>2008-08-13</td>\n",
       "      <td>0</td>\n",
       "      <td>-219.210937</td>\n",
       "    </tr>\n",
       "    <tr>\n",
       "      <th>4</th>\n",
       "      <td>2008-08-14</td>\n",
       "      <td>1</td>\n",
       "      <td>214.970704</td>\n",
       "    </tr>\n",
       "    <tr>\n",
       "      <th>...</th>\n",
       "      <td>...</td>\n",
       "      <td>...</td>\n",
       "      <td>...</td>\n",
       "    </tr>\n",
       "    <tr>\n",
       "      <th>1984</th>\n",
       "      <td>2016-06-27</td>\n",
       "      <td>1</td>\n",
       "      <td>-83.859376</td>\n",
       "    </tr>\n",
       "    <tr>\n",
       "      <th>1985</th>\n",
       "      <td>2016-06-28</td>\n",
       "      <td>1</td>\n",
       "      <td>99.849609</td>\n",
       "    </tr>\n",
       "    <tr>\n",
       "      <th>1986</th>\n",
       "      <td>2016-06-29</td>\n",
       "      <td>1</td>\n",
       "      <td>139.230468</td>\n",
       "    </tr>\n",
       "    <tr>\n",
       "      <th>1987</th>\n",
       "      <td>2016-06-30</td>\n",
       "      <td>1</td>\n",
       "      <td>-52.679687</td>\n",
       "    </tr>\n",
       "    <tr>\n",
       "      <th>1988</th>\n",
       "      <td>2016-07-01</td>\n",
       "      <td>1</td>\n",
       "      <td>-302.230468</td>\n",
       "    </tr>\n",
       "  </tbody>\n",
       "</table>\n",
       "<p>1989 rows × 3 columns</p>\n",
       "</div>"
      ],
      "text/plain": [
       "            Date  Label       Delta\n",
       "0     2008-08-08      0  -25.128907\n",
       "1     2008-08-11      1 -217.230468\n",
       "2     2008-08-12      0 -238.660157\n",
       "3     2008-08-13      0 -219.210937\n",
       "4     2008-08-14      1  214.970704\n",
       "...          ...    ...         ...\n",
       "1984  2016-06-27      1  -83.859376\n",
       "1985  2016-06-28      1   99.849609\n",
       "1986  2016-06-29      1  139.230468\n",
       "1987  2016-06-30      1  -52.679687\n",
       "1988  2016-07-01      1 -302.230468\n",
       "\n",
       "[1989 rows x 3 columns]"
      ]
     },
     "execution_count": 87,
     "metadata": {},
     "output_type": "execute_result"
    }
   ],
   "source": [
    "dfff = pd.read_csv('upload_DJIA_table.csv')\n",
    "dfff['Delta'] = dfff.Open - dfff.Close\n",
    "dff = pd.DataFrame({'Date':df.Date, 'Label':ch, 'Delta':dfff.Delta})\n",
    "dff"
   ]
  },
  {
   "cell_type": "code",
   "execution_count": 90,
   "id": "2809d558",
   "metadata": {},
   "outputs": [
    {
     "data": {
      "text/html": [
       "<div>\n",
       "<style scoped>\n",
       "    .dataframe tbody tr th:only-of-type {\n",
       "        vertical-align: middle;\n",
       "    }\n",
       "\n",
       "    .dataframe tbody tr th {\n",
       "        vertical-align: top;\n",
       "    }\n",
       "\n",
       "    .dataframe thead th {\n",
       "        text-align: right;\n",
       "    }\n",
       "</style>\n",
       "<table border=\"1\" class=\"dataframe\">\n",
       "  <thead>\n",
       "    <tr style=\"text-align: right;\">\n",
       "      <th></th>\n",
       "      <th>Date</th>\n",
       "      <th>Label</th>\n",
       "      <th>Delta</th>\n",
       "    </tr>\n",
       "  </thead>\n",
       "  <tbody>\n",
       "    <tr>\n",
       "      <th>0</th>\n",
       "      <td>2008-08-08</td>\n",
       "      <td>0</td>\n",
       "      <td>0.000000</td>\n",
       "    </tr>\n",
       "    <tr>\n",
       "      <th>1</th>\n",
       "      <td>2008-08-11</td>\n",
       "      <td>1</td>\n",
       "      <td>-16.548046</td>\n",
       "    </tr>\n",
       "    <tr>\n",
       "      <th>2</th>\n",
       "      <td>2008-08-12</td>\n",
       "      <td>0</td>\n",
       "      <td>18.180504</td>\n",
       "    </tr>\n",
       "    <tr>\n",
       "      <th>3</th>\n",
       "      <td>2008-08-13</td>\n",
       "      <td>0</td>\n",
       "      <td>16.698913</td>\n",
       "    </tr>\n",
       "    <tr>\n",
       "      <th>4</th>\n",
       "      <td>2008-08-14</td>\n",
       "      <td>1</td>\n",
       "      <td>-16.375903</td>\n",
       "    </tr>\n",
       "    <tr>\n",
       "      <th>...</th>\n",
       "      <td>...</td>\n",
       "      <td>...</td>\n",
       "      <td>...</td>\n",
       "    </tr>\n",
       "    <tr>\n",
       "      <th>1983</th>\n",
       "      <td>2016-06-24</td>\n",
       "      <td>1</td>\n",
       "      <td>-3.709109</td>\n",
       "    </tr>\n",
       "    <tr>\n",
       "      <th>1984</th>\n",
       "      <td>2016-06-27</td>\n",
       "      <td>1</td>\n",
       "      <td>-6.388187</td>\n",
       "    </tr>\n",
       "    <tr>\n",
       "      <th>1985</th>\n",
       "      <td>2016-06-28</td>\n",
       "      <td>1</td>\n",
       "      <td>-7.606281</td>\n",
       "    </tr>\n",
       "    <tr>\n",
       "      <th>1986</th>\n",
       "      <td>2016-06-29</td>\n",
       "      <td>1</td>\n",
       "      <td>-10.606211</td>\n",
       "    </tr>\n",
       "    <tr>\n",
       "      <th>1987</th>\n",
       "      <td>2016-06-30</td>\n",
       "      <td>1</td>\n",
       "      <td>-4.013000</td>\n",
       "    </tr>\n",
       "  </tbody>\n",
       "</table>\n",
       "<p>1988 rows × 3 columns</p>\n",
       "</div>"
      ],
      "text/plain": [
       "            Date  Label      Delta\n",
       "0     2008-08-08      0   0.000000\n",
       "1     2008-08-11      1 -16.548046\n",
       "2     2008-08-12      0  18.180504\n",
       "3     2008-08-13      0  16.698913\n",
       "4     2008-08-14      1 -16.375903\n",
       "...          ...    ...        ...\n",
       "1983  2016-06-24      1  -3.709109\n",
       "1984  2016-06-27      1  -6.388187\n",
       "1985  2016-06-28      1  -7.606281\n",
       "1986  2016-06-29      1 -10.606211\n",
       "1987  2016-06-30      1  -4.013000\n",
       "\n",
       "[1988 rows x 3 columns]"
      ]
     },
     "execution_count": 90,
     "metadata": {},
     "output_type": "execute_result"
    }
   ],
   "source": [
    "import pickle\n",
    "import pandas as pd\n",
    "import numpy as np\n",
    "from sklearn.feature_extraction.text import CountVectorizer\n",
    "import statsmodels.api as sm\n",
    "from statsmodels.tsa.statespace.sarimax import SARIMAX\n",
    "\n",
    "def ne_ch():\n",
    "    df = pd.read_csv('upload_DJIA_table.csv')\n",
    "    df2 = pd.read_csv('Combined_News_DJIA.csv')\n",
    "    df2['Delta'] = df.Open - df.Close\n",
    "    dff = pd.DataFrame({'Date':df2.Date, 'Label':df2.Label, 'Delta':df2.Delta})\n",
    "    xs12 = dff[(dff.Date > \"2008-08-08\") & (dff.Date < \"2016-07-01\")].Date\n",
    "    ys12 = dff[(dff.Date > \"2008-08-08\")  & (dff.Date < \"2016-07-01\")].Delta\n",
    "\n",
    "    tryw = pd.DataFrame(np.array(ys12), index=range(len(xs12)))\n",
    "    model = SARIMAX(tryw)\n",
    "    model_fit = model.fit(disp=False)\n",
    "    yhat = model_fit.predict(0, len(ys12))\n",
    "    model_fit.aic,len(yhat)\n",
    "\n",
    "    #df12 = pd.read_csv('Combined_News_DJIA.csv')\n",
    "    train = df2[df2['Date']<'20150101']\n",
    "    test = df2[df2['Date'] > '20141231']\n",
    "    data = train.iloc[:, 2:27]\n",
    "    data.replace(\"[^a-zA-Z]\", \" \", regex=True, inplace=True)\n",
    "    list1 = [i for i in range(25)]\n",
    "    new_Index = [str(i) for i in list1]\n",
    "    data.columns = new_Index\n",
    "    for index in new_Index:\n",
    "        data[index] = data[index].str.lower()\n",
    "    headlines = []\n",
    "    for row in range(0, len(data.index)):\n",
    "        headlines.append(' '.join(str(x) for x in data.iloc[row, 0:25]))\n",
    "    countVector = CountVectorizer(ngram_range=(2,2))\n",
    "    trainDataset = countVector.fit_transform(headlines)\n",
    "    def pred_cl(df):\n",
    "        data = df.iloc[:, 2:27]\n",
    "        data.replace(\"[^a-zA-Z]\", \" \", regex=True, inplace=True)\n",
    "        list1 = [i for i in range(25)]\n",
    "        new_Index = [str(i) for i in list1]\n",
    "        data.columns = new_Index\n",
    "        for index in new_Index:\n",
    "            data[index] = data[index].str.lower()\n",
    "        headlines = []\n",
    "        for row in range(0, len(data.index)):\n",
    "            headlines.append(' '.join(str(x) for x in data.iloc[row, 0:25]))\n",
    "        Dataset = countVector.transform(headlines)\n",
    "        return Dataset\n",
    "    predictor_df = pred_cl(df2)\n",
    "    with open('D:\\\\rf_b.pkl', 'rb') as f:\n",
    "        randomClassifier = pickle.load(f)\n",
    "        ch = randomClassifier.predict(predictor_df)\n",
    "    lb = ch\n",
    "    b = []\n",
    "    for i in range(0, len(yhat)):\n",
    "        if lb[i] == 0 and yhat[i] < 0:\n",
    "            a = yhat[i]*(-1)\n",
    "            b.append(a)\n",
    "        elif lb[i] == 1 and yhat[i] > 0:\n",
    "            a = yhat[i]*(-1)\n",
    "            b.append(a)\n",
    "        else:\n",
    "            a = yhat[i]\n",
    "            b.append(a)\n",
    "    dr = pd.DataFrame({'Date':df2.Date[:-1], 'Label':ch[:-1], 'Delta':b})\n",
    "    modif_dr = dr[['Date', 'Delta']]\n",
    "    return dr\n",
    "ne_ch()"
   ]
  }
 ],
 "metadata": {
  "kernelspec": {
   "display_name": "Python 3",
   "language": "python",
   "name": "python3"
  },
  "language_info": {
   "codemirror_mode": {
    "name": "ipython",
    "version": 3
   },
   "file_extension": ".py",
   "mimetype": "text/x-python",
   "name": "python",
   "nbconvert_exporter": "python",
   "pygments_lexer": "ipython3",
   "version": "3.7.1"
  }
 },
 "nbformat": 4,
 "nbformat_minor": 5
}
